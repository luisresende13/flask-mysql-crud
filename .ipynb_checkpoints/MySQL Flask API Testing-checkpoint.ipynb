{
 "cells": [
  {
   "cell_type": "markdown",
   "id": "11200cd5-3eec-4741-b491-4a59f9e0bc07",
   "metadata": {},
   "source": [
    "#### Make sure the api is running "
   ]
  },
  {
   "cell_type": "code",
   "execution_count": 100,
   "id": "1bf5e838-8144-42ed-b7a6-3ca3fe06eef8",
   "metadata": {},
   "outputs": [
    {
     "name": "stdout",
     "output_type": "stream",
     "text": [
      "GET /hello Response:\n",
      "Hello, world!\n",
      "--------------------------------------\n"
     ]
    }
   ],
   "source": [
    "import requests\n",
    "import json\n",
    "\n",
    "# Define the base URL of your Flask application\n",
    "BASE_URL = 'http://<your_ip>:<your_port>'\n",
    "\n",
    "# Test /hello endpoint\n",
    "response = requests.get(f'{BASE_URL}/hello')\n",
    "print(\"GET /hello Response:\")\n",
    "print(response.text)\n",
    "print('--------------------------------------')"
   ]
  },
  {
   "cell_type": "markdown",
   "id": "ac47e219-ddc7-496e-8adc-3f3a27bf4160",
   "metadata": {},
   "source": [
    "#### Create `users` table"
   ]
  },
  {
   "cell_type": "code",
   "execution_count": 114,
   "id": "e9e1065c-d6fc-470f-adca-f2c64edda466",
   "metadata": {},
   "outputs": [
    {
     "name": "stdout",
     "output_type": "stream",
     "text": [
      "POST / Response:\n",
      "{'message': \"Table 'users' created successfully.\"}\n",
      "--------------------------------------\n"
     ]
    }
   ],
   "source": [
    "# Test create_table endpoint\n",
    "create_table_data = {\n",
    "    \"name\": \"users\",\n",
    "    \"columns\": [\"id INT PRIMARY KEY\", \"name VARCHAR(255)\"]\n",
    "}\n",
    "response = requests.post(f'{BASE_URL}/sql', json=create_table_data)\n",
    "print(\"POST / Response:\")\n",
    "print(response.json())\n",
    "print('--------------------------------------')"
   ]
  },
  {
   "cell_type": "markdown",
   "id": "79caa8f1-dfea-4549-baa3-fc1d728610db",
   "metadata": {},
   "source": [
    "#### Get users"
   ]
  },
  {
   "cell_type": "code",
   "execution_count": 102,
   "id": "2b06c3cf-e9c2-41c0-9d6b-56044195a545",
   "metadata": {},
   "outputs": [
    {
     "name": "stdout",
     "output_type": "stream",
     "text": [
      "GET /users Response:\n",
      "[]\n",
      "--------------------------------------\n"
     ]
    }
   ],
   "source": [
    "# Test get_records endpoint\n",
    "response = requests.get(f'{BASE_URL}/sql/users')\n",
    "print(\"GET /users Response:\")\n",
    "print(response.json())\n",
    "print('--------------------------------------')"
   ]
  },
  {
   "cell_type": "markdown",
   "id": "d30096a0-efef-4c47-9ae3-84739be59104",
   "metadata": {},
   "source": [
    "#### Post user"
   ]
  },
  {
   "cell_type": "code",
   "execution_count": 103,
   "id": "cfb0637a-dc94-45c4-8b61-ed556a2e1bca",
   "metadata": {},
   "outputs": [
    {
     "name": "stdout",
     "output_type": "stream",
     "text": [
      "POST /users Response:\n",
      "{'message': \"Record(s) created successfully in 'users'.\"}\n",
      "--------------------------------------\n"
     ]
    }
   ],
   "source": [
    "# Test create_record endpoint\n",
    "create_record_data = {\n",
    "    \"id\": 1,\n",
    "    \"name\": \"Alice\"\n",
    "}\n",
    "response = requests.post(f'{BASE_URL}/sql/users', json=create_record_data)\n",
    "print(\"POST /users Response:\")\n",
    "print(response.json())\n",
    "print('--------------------------------------')"
   ]
  },
  {
   "cell_type": "markdown",
   "id": "c342cdb7-1e29-47e4-a19f-b27be4304392",
   "metadata": {},
   "source": [
    "#### Post users"
   ]
  },
  {
   "cell_type": "code",
   "execution_count": 104,
   "id": "0d5889e2-f6a2-47e6-b43d-4a0c1ab5cdec",
   "metadata": {},
   "outputs": [
    {
     "name": "stdout",
     "output_type": "stream",
     "text": [
      "POST /users Response:\n",
      "{'message': \"Record(s) created successfully in 'users'.\"}\n",
      "--------------------------------------\n"
     ]
    }
   ],
   "source": [
    "# Test create_record endpoint\n",
    "create_record_data = [{\n",
    "    \"id\": 2,\n",
    "    \"name\": \"Jhon\"\n",
    "}]\n",
    "response = requests.post(f'{BASE_URL}/sql/users', json=create_record_data)\n",
    "print(\"POST /users Response:\")\n",
    "print(response.json())\n",
    "print('--------------------------------------')"
   ]
  },
  {
   "cell_type": "markdown",
   "id": "ba0b4764-37c0-478b-b69d-acfe49edfaa6",
   "metadata": {},
   "source": [
    "#### Get users"
   ]
  },
  {
   "cell_type": "code",
   "execution_count": 105,
   "id": "399ae351-e3d7-4bcd-93ba-4163a7afee49",
   "metadata": {},
   "outputs": [
    {
     "name": "stdout",
     "output_type": "stream",
     "text": [
      "GET /users Response:\n",
      "[{'id': 1, 'name': 'Alice'}, {'id': 2, 'name': 'Jhon'}]\n",
      "--------------------------------------\n"
     ]
    }
   ],
   "source": [
    "# Test get_records endpoint\n",
    "response = requests.get(f'{BASE_URL}/sql/users')\n",
    "print(\"GET /users Response:\")\n",
    "print(response.json())\n",
    "print('--------------------------------------')"
   ]
  },
  {
   "cell_type": "markdown",
   "id": "99b485e0-722a-4840-85b7-d1157f8c2101",
   "metadata": {},
   "source": [
    "#### Update user"
   ]
  },
  {
   "cell_type": "code",
   "execution_count": 106,
   "id": "05a0e4fa-2e3b-4b74-88d9-03f7ff0bacbf",
   "metadata": {},
   "outputs": [
    {
     "name": "stdout",
     "output_type": "stream",
     "text": [
      "PUT /users/1 Response:\n",
      "{'message': \"Record with ID 1 updated successfully in 'users'.\"}\n",
      "--------------------------------------\n"
     ]
    }
   ],
   "source": [
    "# Test update_record endpoint\n",
    "update_record_data = {\n",
    "    \"name\": \"Updated Alice\"\n",
    "}\n",
    "response = requests.put(f'{BASE_URL}/sql/users/1', json=update_record_data)\n",
    "print(\"PUT /users/1 Response:\")\n",
    "print(response.json())\n",
    "print('--------------------------------------')"
   ]
  },
  {
   "cell_type": "markdown",
   "id": "ff1c534d-0044-4e5e-b5c7-5141307a928e",
   "metadata": {},
   "source": [
    "#### Get users"
   ]
  },
  {
   "cell_type": "code",
   "execution_count": 107,
   "id": "a4e64dc5-2140-439e-89eb-2c4a8b3b976e",
   "metadata": {},
   "outputs": [
    {
     "name": "stdout",
     "output_type": "stream",
     "text": [
      "GET /users Response:\n",
      "[{'id': 1, 'name': 'Updated Alice'}, {'id': 2, 'name': 'Jhon'}]\n",
      "--------------------------------------\n"
     ]
    }
   ],
   "source": [
    "# Test get_records endpoint\n",
    "response = requests.get(f'{BASE_URL}/sql/users')\n",
    "print(\"GET /users Response:\")\n",
    "print(response.json())\n",
    "print('--------------------------------------')"
   ]
  },
  {
   "cell_type": "markdown",
   "id": "391654a2-f15e-4e50-b437-3f171214a504",
   "metadata": {},
   "source": [
    "#### Delete user"
   ]
  },
  {
   "cell_type": "code",
   "execution_count": 108,
   "id": "ae27c4bb-de22-413b-9105-ad818d9f90d8",
   "metadata": {},
   "outputs": [
    {
     "name": "stdout",
     "output_type": "stream",
     "text": [
      "DELETE /users/1 Response:\n",
      "{'message': \"Record with ID 1 deleted successfully from 'users'.\"}\n",
      "--------------------------------------\n"
     ]
    }
   ],
   "source": [
    "# Test delete_record endpoint\n",
    "response = requests.delete(f'{BASE_URL}/sql/users/1')\n",
    "print(\"DELETE /users/1 Response:\")\n",
    "print(response.json())\n",
    "print('--------------------------------------')"
   ]
  },
  {
   "cell_type": "markdown",
   "id": "69c0f703-c6f9-4870-8a7d-5eeadd3777c8",
   "metadata": {},
   "source": [
    "#### Get users"
   ]
  },
  {
   "cell_type": "code",
   "execution_count": 109,
   "id": "2df8354c-d1ee-4c0e-95eb-6d7db3ba84c7",
   "metadata": {},
   "outputs": [
    {
     "name": "stdout",
     "output_type": "stream",
     "text": [
      "GET /users Response:\n",
      "[{'id': 2, 'name': 'Jhon'}]\n",
      "--------------------------------------\n"
     ]
    }
   ],
   "source": [
    "# Test get_records endpoint\n",
    "response = requests.get(f'{BASE_URL}/sql/users')\n",
    "print(\"GET /users Response:\")\n",
    "print(response.json())\n",
    "print('--------------------------------------')"
   ]
  },
  {
   "cell_type": "markdown",
   "id": "c75dff5e-fbbb-4cf6-bc4c-d8763af7dcc5",
   "metadata": {},
   "source": [
    "#### Add field to table schema"
   ]
  },
  {
   "cell_type": "code",
   "execution_count": 110,
   "id": "da876891-f3d0-4fb9-bdca-29a5723a3518",
   "metadata": {},
   "outputs": [
    {
     "name": "stdout",
     "output_type": "stream",
     "text": [
      "PUT /users Response:\n",
      "{'message': \"Columns added to 'users' successfully.\"}\n",
      "--------------------------------------\n"
     ]
    }
   ],
   "source": [
    "# Test update_table endpoint\n",
    "update_table_data = {\n",
    "    # \"columns\": [\"id INT PRIMARY KEY\", \"name VARCHAR(255)\", \"age INT\"]\n",
    "    \"columns\": [\"age INT\"]\n",
    "}\n",
    "response = requests.put(f'{BASE_URL}/sql/users', json=update_table_data)\n",
    "print(\"PUT /users Response:\")\n",
    "print(response.json())\n",
    "print('--------------------------------------')"
   ]
  },
  {
   "cell_type": "markdown",
   "id": "881f307c-007e-4e54-a332-98d410971947",
   "metadata": {},
   "source": [
    "#### Add user with new table schema"
   ]
  },
  {
   "cell_type": "code",
   "execution_count": 111,
   "id": "dc865ea5-520e-4a3d-b35a-5b0eb9ed05ac",
   "metadata": {},
   "outputs": [
    {
     "name": "stdout",
     "output_type": "stream",
     "text": [
      "POST /users Response:\n",
      "{'message': \"Record(s) created successfully in 'users'.\"}\n",
      "--------------------------------------\n"
     ]
    }
   ],
   "source": [
    "# Test create_record endpoint\n",
    "create_record_data = {\n",
    "    \"id\": 1,\n",
    "    \"name\": \"Alice\",\n",
    "    \"age\": 21,\n",
    "}\n",
    "response = requests.post(f'{BASE_URL}/sql/users', json=create_record_data)\n",
    "print(\"POST /users Response:\")\n",
    "print(response.json())\n",
    "print('--------------------------------------')"
   ]
  },
  {
   "cell_type": "markdown",
   "id": "5dfaa6bb-35fa-4fb1-a6a5-16912e39518e",
   "metadata": {},
   "source": [
    "#### Get users"
   ]
  },
  {
   "cell_type": "code",
   "execution_count": 112,
   "id": "653acebc-8e67-41df-9fcb-259b751b7a73",
   "metadata": {},
   "outputs": [
    {
     "name": "stdout",
     "output_type": "stream",
     "text": [
      "GET /users Response:\n",
      "[{'age': 21, 'id': 1, 'name': 'Alice'}, {'age': None, 'id': 2, 'name': 'Jhon'}]\n",
      "--------------------------------------\n"
     ]
    }
   ],
   "source": [
    "# Test get_records endpoint\n",
    "response = requests.get(f'{BASE_URL}/sql/users')\n",
    "print(\"GET /users Response:\")\n",
    "print(response.json())\n",
    "print('--------------------------------------')"
   ]
  },
  {
   "cell_type": "markdown",
   "id": "b7ade337-92cc-4fce-89f7-58a6040d3d65",
   "metadata": {},
   "source": [
    "#### Delete table"
   ]
  },
  {
   "cell_type": "code",
   "execution_count": 113,
   "id": "f890626c-c2e6-43ee-b9aa-4d9b644648ac",
   "metadata": {},
   "outputs": [
    {
     "name": "stdout",
     "output_type": "stream",
     "text": [
      "DELETE /users Response:\n",
      "{'message': \"Table 'users' deleted successfully.\"}\n",
      "--------------------------------------\n"
     ]
    }
   ],
   "source": [
    "# Test delete_table endpoint\n",
    "response = requests.delete(f'{BASE_URL}/sql/users')\n",
    "print(\"DELETE /users Response:\")\n",
    "print(response.json())\n",
    "print('--------------------------------------')"
   ]
  }
 ],
 "metadata": {
  "kernelspec": {
   "display_name": "Python 3 (ipykernel)",
   "language": "python",
   "name": "python3"
  },
  "language_info": {
   "codemirror_mode": {
    "name": "ipython",
    "version": 3
   },
   "file_extension": ".py",
   "mimetype": "text/x-python",
   "name": "python",
   "nbconvert_exporter": "python",
   "pygments_lexer": "ipython3",
   "version": "3.11.3"
  }
 },
 "nbformat": 4,
 "nbformat_minor": 5
}
